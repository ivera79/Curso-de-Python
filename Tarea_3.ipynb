{
  "nbformat": 4,
  "nbformat_minor": 0,
  "metadata": {
    "colab": {
      "name": "Tarea 3.ipynb",
      "provenance": [],
      "authorship_tag": "ABX9TyN2HVDxAYLPI3xPA2oODaag",
      "include_colab_link": true
    },
    "kernelspec": {
      "name": "python3",
      "display_name": "Python 3"
    },
    "language_info": {
      "name": "python"
    }
  },
  "cells": [
    {
      "cell_type": "markdown",
      "metadata": {
        "id": "view-in-github",
        "colab_type": "text"
      },
      "source": [
        "<a href=\"https://colab.research.google.com/github/ivera79/Curso-de-Python/blob/main/Tarea_3.ipynb\" target=\"_parent\"><img src=\"https://colab.research.google.com/assets/colab-badge.svg\" alt=\"Open In Colab\"/></a>"
      ]
    },
    {
      "cell_type": "code",
      "execution_count": null,
      "metadata": {
        "id": "I6GaHJJk2yk0"
      },
      "outputs": [],
      "source": [
        ""
      ]
    },
    {
      "cell_type": "markdown",
      "source": [
        "# Tarea 3\n"
      ],
      "metadata": {
        "id": "XFErACW920S7"
      }
    },
    {
      "cell_type": "markdown",
      "source": [
        "## Ejercicio 1\n",
        "Haz que un usuario introduzca un número real y evalúa si dicho número es positivo, negativo o cero. Devuelve\n",
        "por pantalla el resultado en cada caso.\n"
      ],
      "metadata": {
        "id": "EpStXN1_2-Lt"
      }
    },
    {
      "cell_type": "code",
      "source": [
        "numero = int(input(\"Por favor ingrese un numero: \"))\n",
        "if numero >= 0: \n",
        "    print(\"El numero ingresado es positivo\")\n",
        "else:\n",
        "    print(\"El numero ingresado es negativo\")    "
      ],
      "metadata": {
        "colab": {
          "base_uri": "https://localhost:8080/"
        },
        "id": "pI_XAl2i3C36",
        "outputId": "c91350b2-2c4c-437f-9e7e-09afcfc1c773"
      },
      "execution_count": null,
      "outputs": [
        {
          "output_type": "stream",
          "name": "stdout",
          "text": [
            "Por favor ingrese un numero: -2\n",
            "El numero ingresado es negativo\n"
          ]
        }
      ]
    },
    {
      "cell_type": "markdown",
      "source": [
        "## Ejercicio 2\n",
        "Haz que un usuario introduzca su nombre y evalúa con operadores if y else si dicho nombre tiene una\n",
        "longitud mayor a 10 caracteres o no. Devuelve por pantalla el resultado en cada caso.\n",
        "\n"
      ],
      "metadata": {
        "id": "DAiMbeVN5_84"
      }
    },
    {
      "cell_type": "code",
      "source": [
        "name = str(input(\"Por favor introduzca su nombre: \"))\n",
        "if len(name)>= 10:\n",
        "    print(\"Su nombre tiene 10 caracteres o mas\")\n",
        "else:\n",
        "    print(\"Su nombre tiene menos de 10 caracteres\")    "
      ],
      "metadata": {
        "colab": {
          "base_uri": "https://localhost:8080/"
        },
        "id": "CQpE_V316Dsl",
        "outputId": "2589f033-0482-417f-edd5-5a18287dbe19"
      },
      "execution_count": null,
      "outputs": [
        {
          "output_type": "stream",
          "name": "stdout",
          "text": [
            "Por favor introduzca su nombre: Ivan\n",
            "Su nombre tiene menos de 10 caracteres\n"
          ]
        }
      ]
    },
    {
      "cell_type": "markdown",
      "source": [
        "## Ejercicio 3\n",
        "Realiza el ejercicio anterior con el uso del operador ternario.\n"
      ],
      "metadata": {
        "id": "5CaRUDM5MpmW"
      }
    },
    {
      "cell_type": "code",
      "source": [
        "name = str(input(\"Por favor introduzca su nombre: \"))\n",
        "print(\"Su nombre tiene 10 caracteres o mas\") if len(name)>= 10 else print(\"Su nombre tiene menos de 10 caracteres\")  "
      ],
      "metadata": {
        "colab": {
          "base_uri": "https://localhost:8080/"
        },
        "id": "Ah9v9lQtMsPl",
        "outputId": "8407f619-055f-4751-f88e-fad67ffba1d5"
      },
      "execution_count": 1,
      "outputs": [
        {
          "output_type": "stream",
          "name": "stdout",
          "text": [
            "Por favor introduzca su nombre: Ivan\n",
            "Su nombre tiene menos de 10 caracteres\n"
          ]
        }
      ]
    },
    {
      "cell_type": "markdown",
      "source": [
        "## Ejercicio 4\n",
        "Haz que un usuario introduzca dos números enteros positivos. Comprueba si el primer número introducido\n",
        "por el usuario es mayor o igual que el segundo número introducido por el usuario. Devuelve por pantalla el\n",
        "resultado en cada caso.\n",
        "PISTA: Asegúrate de hacer uso de la función int() donde pertoque."
      ],
      "metadata": {
        "id": "OLfuDJSLM6Ht"
      }
    },
    {
      "cell_type": "code",
      "source": [
        "numero1 = int(input(\"Por favor introduzca el primer numero mayor a cero: \"))\n",
        "numero2 = int(input(\"Por favor introduzca el segundo numero mayor a cero: \"))\n",
        "if numero1 >= numero2:\n",
        "    print(\"El mayor de ambos numeros es: \" + str(numero1)) \n",
        "else:\n",
        "    print(\"El menor de ambos numeros es: \" + str(numero1))"
      ],
      "metadata": {
        "colab": {
          "base_uri": "https://localhost:8080/"
        },
        "id": "KaWwXHwfM_cY",
        "outputId": "8c12bb2a-5645-42bd-a02c-2d337f09633b"
      },
      "execution_count": 8,
      "outputs": [
        {
          "output_type": "stream",
          "name": "stdout",
          "text": [
            "Por favor introduzca el primer numero mayor a cero: 23\n",
            "Por favor introduzca el segundo numero mayor a cero: 12\n",
            "El mayor de ambos numeros es: 23\n"
          ]
        }
      ]
    },
    {
      "cell_type": "markdown",
      "source": [
        "## Ejercicio 5\n",
        "Haz que un usuario introduzca dos números enteros positivos. Suponiendo que el primer número introducido\n",
        "por el usuario es mayor o igual al segundo número introducido por el usuario, comprueba que la división del\n",
        "primer número entre el segundo número es exacta.\n",
        "En caso de la división ser exacta, devuelve el cociente por pantalla e indica que la división en efecto es exacta.\n",
        "En caso de la división no ser exacta, devuelve el cociente y el resto por pantalla e indica que la división entre\n",
        "los dos números no es exacta\n"
      ],
      "metadata": {
        "id": "ARvm8vlVOjq9"
      }
    },
    {
      "cell_type": "code",
      "source": [
        ""
      ],
      "metadata": {
        "id": "fNTdpvWpOpAe"
      },
      "execution_count": null,
      "outputs": []
    }
  ]
}