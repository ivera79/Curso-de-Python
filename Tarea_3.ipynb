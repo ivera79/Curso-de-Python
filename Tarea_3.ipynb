{
  "nbformat": 4,
  "nbformat_minor": 0,
  "metadata": {
    "colab": {
      "name": "Tarea 3.ipynb",
      "provenance": [],
      "mount_file_id": "https://github.com/ivera79/Curso-de-Python/blob/main/Tarea_3.ipynb",
      "authorship_tag": "ABX9TyMbCUEVJUBBCuS2LTWnnIWh",
      "include_colab_link": true
    },
    "kernelspec": {
      "name": "python3",
      "display_name": "Python 3"
    },
    "language_info": {
      "name": "python"
    }
  },
  "cells": [
    {
      "cell_type": "markdown",
      "metadata": {
        "id": "view-in-github",
        "colab_type": "text"
      },
      "source": [
        "<a href=\"https://colab.research.google.com/github/ivera79/Curso-de-Python/blob/main/Tarea_3.ipynb\" target=\"_parent\"><img src=\"https://colab.research.google.com/assets/colab-badge.svg\" alt=\"Open In Colab\"/></a>"
      ]
    },
    {
      "cell_type": "code",
      "execution_count": null,
      "metadata": {
        "id": "I6GaHJJk2yk0"
      },
      "outputs": [],
      "source": [
        ""
      ]
    },
    {
      "cell_type": "markdown",
      "source": [
        "# Tarea 3\n"
      ],
      "metadata": {
        "id": "XFErACW920S7"
      }
    },
    {
      "cell_type": "markdown",
      "source": [
        "## Ejercicio 1\n",
        "Haz que un usuario introduzca un número real y evalúa si dicho número es positivo, negativo o cero. Devuelve\n",
        "por pantalla el resultado en cada caso.\n"
      ],
      "metadata": {
        "id": "EpStXN1_2-Lt"
      }
    },
    {
      "cell_type": "code",
      "source": [
        "numero = int(input(\"Por favor ingrese un numero: \"))\n",
        "if numero >= 0: \n",
        "    print(\"El numero ingresado es positivo\")\n",
        "else:\n",
        "    print(\"El numero ingresado es negativo\")    "
      ],
      "metadata": {
        "colab": {
          "base_uri": "https://localhost:8080/"
        },
        "id": "pI_XAl2i3C36",
        "outputId": "c91350b2-2c4c-437f-9e7e-09afcfc1c773"
      },
      "execution_count": null,
      "outputs": [
        {
          "output_type": "stream",
          "name": "stdout",
          "text": [
            "Por favor ingrese un numero: -2\n",
            "El numero ingresado es negativo\n"
          ]
        }
      ]
    },
    {
      "cell_type": "markdown",
      "source": [
        "## Ejercicio 2\n",
        "Haz que un usuario introduzca su nombre y evalúa con operadores if y else si dicho nombre tiene una\n",
        "longitud mayor a 10 caracteres o no. Devuelve por pantalla el resultado en cada caso.\n",
        "\n"
      ],
      "metadata": {
        "id": "DAiMbeVN5_84"
      }
    },
    {
      "cell_type": "code",
      "source": [
        "name = str(input(\"Por favor introduzca su nombre: \"))\n",
        "if len(name)>= 10:\n",
        "    print(\"Su nombre tiene 10 caracteres o mas\")\n",
        "else:\n",
        "    print(\"Su nombre tiene menos de 10 caracteres\")    "
      ],
      "metadata": {
        "colab": {
          "base_uri": "https://localhost:8080/"
        },
        "id": "CQpE_V316Dsl",
        "outputId": "2589f033-0482-417f-edd5-5a18287dbe19"
      },
      "execution_count": null,
      "outputs": [
        {
          "output_type": "stream",
          "name": "stdout",
          "text": [
            "Por favor introduzca su nombre: Ivan\n",
            "Su nombre tiene menos de 10 caracteres\n"
          ]
        }
      ]
    },
    {
      "cell_type": "markdown",
      "source": [
        "## Ejercicio 3\n",
        "Realiza el ejercicio anterior con el uso del operador ternario.\n"
      ],
      "metadata": {
        "id": "5CaRUDM5MpmW"
      }
    },
    {
      "cell_type": "code",
      "source": [
        "name = str(input(\"Por favor introduzca su nombre: \"))\n",
        "print(\"Su nombre tiene 10 caracteres o mas\") if len(name)>= 10 else print(\"Su nombre tiene menos de 10 caracteres\")  "
      ],
      "metadata": {
        "colab": {
          "base_uri": "https://localhost:8080/"
        },
        "id": "Ah9v9lQtMsPl",
        "outputId": "8407f619-055f-4751-f88e-fad67ffba1d5"
      },
      "execution_count": 1,
      "outputs": [
        {
          "output_type": "stream",
          "name": "stdout",
          "text": [
            "Por favor introduzca su nombre: Ivan\n",
            "Su nombre tiene menos de 10 caracteres\n"
          ]
        }
      ]
    },
    {
      "cell_type": "markdown",
      "source": [
        "## Ejercicio 4\n",
        "Haz que un usuario introduzca dos números enteros positivos. Comprueba si el primer número introducido\n",
        "por el usuario es mayor o igual que el segundo número introducido por el usuario. Devuelve por pantalla el\n",
        "resultado en cada caso.\n",
        "PISTA: Asegúrate de hacer uso de la función int() donde pertoque."
      ],
      "metadata": {
        "id": "OLfuDJSLM6Ht"
      }
    },
    {
      "cell_type": "code",
      "source": [
        "numero1 = int(input(\"Por favor introduzca el primer numero mayor a cero: \"))\n",
        "numero2 = int(input(\"Por favor introduzca el segundo numero mayor a cero: \"))\n",
        "if numero1 >= numero2:\n",
        "    print(\"El mayor de ambos numeros es: \" + str(numero1)) \n",
        "else:\n",
        "    print(\"El menor de ambos numeros es: \" + str(numero1))"
      ],
      "metadata": {
        "colab": {
          "base_uri": "https://localhost:8080/"
        },
        "id": "KaWwXHwfM_cY",
        "outputId": "8c12bb2a-5645-42bd-a02c-2d337f09633b"
      },
      "execution_count": 8,
      "outputs": [
        {
          "output_type": "stream",
          "name": "stdout",
          "text": [
            "Por favor introduzca el primer numero mayor a cero: 23\n",
            "Por favor introduzca el segundo numero mayor a cero: 12\n",
            "El mayor de ambos numeros es: 23\n"
          ]
        }
      ]
    },
    {
      "cell_type": "markdown",
      "source": [
        "## Ejercicio 5\n",
        "Haz que un usuario introduzca dos números enteros positivos. Suponiendo que el primer número introducido\n",
        "por el usuario es mayor o igual al segundo número introducido por el usuario, comprueba que la división del\n",
        "primer número entre el segundo número es exacta.\n",
        "En caso de la división ser exacta, devuelve el cociente por pantalla e indica que la división en efecto es exacta.\n",
        "En caso de la división no ser exacta, devuelve el cociente y el resto por pantalla e indica que la división entre\n",
        "los dos números no es exacta\n"
      ],
      "metadata": {
        "id": "ARvm8vlVOjq9"
      }
    },
    {
      "cell_type": "code",
      "source": [
        "numero1 = int(input(\"Por favor introduzca el primer numero mayor a cero: \"))\n",
        "numero2 = int(input(\"Por favor introduzca el segundo numero mayor a cero: \"))\n",
        "\n",
        "if numero1 >= numero2 and numero1 % numero2 == 0:   \n",
        "    print(\"La division es exacta: \" + str(numero1 / numero2))\n",
        "else:\n",
        "    print(\"La division no es exacta: \" + str(numero1 / numero2))   "
      ],
      "metadata": {
        "colab": {
          "base_uri": "https://localhost:8080/"
        },
        "id": "fNTdpvWpOpAe",
        "outputId": "523679e3-173d-49b7-8183-5857f9879ac2"
      },
      "execution_count": 25,
      "outputs": [
        {
          "output_type": "stream",
          "name": "stdout",
          "text": [
            "Por favor introduzca el primer numero mayor a cero: 3\n",
            "Por favor introduzca el segundo numero mayor a cero: 6\n",
            "La division no es exacta: 0.5\n"
          ]
        }
      ]
    },
    {
      "cell_type": "markdown",
      "source": [
        "## Ejercicio 6\n",
        "Fusiona lo hecho en los ejercicios 4 y 5 para que\n",
        "1. Un usuario introduzca dos números enteros por pantalla.\n",
        "2. Comprobar si el primer número es mayor o igual al segundo número introducido por el usuario. Devolver\n",
        "por pantalla en que caso nos encontramos.\n",
        "3. Hacer la división entera pertinente en cada caso.\n",
        "4. Si la división es exacta, entonces devolver por pantalla el cociente e indicar que la división es exacta.\n",
        "Si la división no es exacta, entonces devolver por pantalla el cociente y el resto e indicar que la división\n",
        "realizada no es exacta."
      ],
      "metadata": {
        "id": "9JSJ2qYxUjgc"
      }
    },
    {
      "cell_type": "code",
      "source": [
        "numero1 = int(input(\"Por favor introduzca el primer numero mayor a cero: \"))\n",
        "numero2 = int(input(\"Por favor introduzca el segundo numero mayor a cero: \"))\n",
        "if numero1 >= numero2:\n",
        "    print(\"El mayor de ambos numeros es: \" + str(numero1)) \n",
        "else:\n",
        "    print(\"El menor de ambos numeros es: \" + str(numero1))\n",
        "if numero1 >= numero2 and numero1 % numero2 == 0:   \n",
        "    print(\"La division es exacta: \" + str(numero1 / numero2))\n",
        "else:\n",
        "    print(\"La division no es exacta: \" + str(numero1 / numero2))    "
      ],
      "metadata": {
        "colab": {
          "base_uri": "https://localhost:8080/"
        },
        "id": "9jduwYY1UmJc",
        "outputId": "e76f242a-ecd3-4731-a103-c6d61bd3c5aa"
      },
      "execution_count": 27,
      "outputs": [
        {
          "output_type": "stream",
          "name": "stdout",
          "text": [
            "Por favor introduzca el primer numero mayor a cero: 33\n",
            "Por favor introduzca el segundo numero mayor a cero: 70\n",
            "El menor de ambos numeros es: 33\n",
            "La division no es exacta: 0.4714285714285714\n"
          ]
        }
      ]
    },
    {
      "cell_type": "markdown",
      "source": [
        "## Ejercicio 7\n",
        "Haz que un usuario introduzca dos números enteros positivos. Comprueba si el mayor es múltiplo del menor.\n",
        "Devuelve por pantalla el resultado en cada caso."
      ],
      "metadata": {
        "id": "uc_20OvaVS1Q"
      }
    },
    {
      "cell_type": "code",
      "source": [
        "numero1 = int(input(\"Por favor introduzca el primer numero mayor a cero: \"))\n",
        "numero2 = int(input(\"Por favor introduzca el segundo numero mayor a cero: \"))\n",
        "\n",
        "if numero1 >= numero2 and numero1 % numero2 == 0:\n",
        "    print(\"El primero es mayor y multiplo del segundo: \" + str(numero1 / numero2)) \n",
        "else:\n",
        "    print(\"El primero es menor y no es multiplo del segundo: \" + str(numero1 / numero2))    "
      ],
      "metadata": {
        "colab": {
          "base_uri": "https://localhost:8080/"
        },
        "id": "RowYOCn4VXUV",
        "outputId": "518eca71-aaeb-4609-c112-90ff054b88ff"
      },
      "execution_count": 30,
      "outputs": [
        {
          "output_type": "stream",
          "name": "stdout",
          "text": [
            "Por favor introduzca el primer numero mayor a cero: 6\n",
            "Por favor introduzca el segundo numero mayor a cero: 12\n",
            "El primero es menor y no es multiplo del segundo: 0.5\n"
          ]
        }
      ]
    },
    {
      "cell_type": "markdown",
      "source": [
        "## Ejercicio 8\n",
        "\n",
        "Haz que un usuario introduzca una palabra y comprueba si dicha palabra empieza por mayúscula. Devuelve\n",
        "por pantalla el resultado en cada caso."
      ],
      "metadata": {
        "id": "D9Roh--EXXZc"
      }
    },
    {
      "cell_type": "code",
      "source": [
        "word = str(input(\"Por favor introduzca una palabra cualquiera: \"))\n",
        "\n",
        "if  word[0].isupper():\n",
        "    print(\"El texto ingresado comienza en mayuscula\")\n",
        "else:\n",
        "    print(\"El texto no comienza en mayuscula\")    \n"
      ],
      "metadata": {
        "colab": {
          "base_uri": "https://localhost:8080/"
        },
        "id": "AwWT0CR1Xm1Z",
        "outputId": "533cfabb-c222-462d-fec4-4793539f57ba"
      },
      "execution_count": 35,
      "outputs": [
        {
          "output_type": "stream",
          "name": "stdout",
          "text": [
            "Por favor introduzca una palabra cualquiera: Hola amigo\n",
            "El texto ingresado comienza en mayuscula\n"
          ]
        }
      ]
    },
    {
      "cell_type": "markdown",
      "source": [
        "## Ejercicio 9\n",
        "Haz un usuario introduza una letra y comprueba si se trata de una vocal. Si el usuario introduce un string\n",
        "de más de un carácter, infórmale de que no se puede procesar el dato, pues debe tener como máximo tamaño\n",
        "1.\n",
        "PISTA: Convierte la letra introducida a minúsculas para tener que realizar menos comprobaciones\n"
      ],
      "metadata": {
        "id": "qIPokayUbG1k"
      }
    }
  ]
}