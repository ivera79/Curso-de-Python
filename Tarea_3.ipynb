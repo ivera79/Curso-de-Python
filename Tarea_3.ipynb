{
  "nbformat": 4,
  "nbformat_minor": 0,
  "metadata": {
    "colab": {
      "name": "Tarea 3.ipynb",
      "provenance": [],
      "authorship_tag": "ABX9TyMjCJILex875E151ONz70mT",
      "include_colab_link": true
    },
    "kernelspec": {
      "name": "python3",
      "display_name": "Python 3"
    },
    "language_info": {
      "name": "python"
    }
  },
  "cells": [
    {
      "cell_type": "markdown",
      "metadata": {
        "id": "view-in-github",
        "colab_type": "text"
      },
      "source": [
        "<a href=\"https://colab.research.google.com/github/ivera79/Curso-de-Python/blob/main/Tarea_3.ipynb\" target=\"_parent\"><img src=\"https://colab.research.google.com/assets/colab-badge.svg\" alt=\"Open In Colab\"/></a>"
      ]
    },
    {
      "cell_type": "code",
      "execution_count": null,
      "metadata": {
        "id": "I6GaHJJk2yk0"
      },
      "outputs": [],
      "source": [
        ""
      ]
    },
    {
      "cell_type": "markdown",
      "source": [
        "# Tarea 3\n"
      ],
      "metadata": {
        "id": "XFErACW920S7"
      }
    },
    {
      "cell_type": "markdown",
      "source": [
        "## Ejercicio 1\n",
        "Haz que un usuario introduzca un número real y evalúa si dicho número es positivo, negativo o cero. Devuelve\n",
        "por pantalla el resultado en cada caso.\n"
      ],
      "metadata": {
        "id": "EpStXN1_2-Lt"
      }
    },
    {
      "cell_type": "code",
      "source": [
        "numero = int(input(\"Por favor ingrese un numero: \"))\n",
        "if numero >= 0: \n",
        "    print(\"El numero ingresado es positivo\")\n",
        "else:\n",
        "    print(\"El numero ingresado es negativo\")    "
      ],
      "metadata": {
        "colab": {
          "base_uri": "https://localhost:8080/"
        },
        "id": "pI_XAl2i3C36",
        "outputId": "c91350b2-2c4c-437f-9e7e-09afcfc1c773"
      },
      "execution_count": 2,
      "outputs": [
        {
          "output_type": "stream",
          "name": "stdout",
          "text": [
            "Por favor ingrese un numero: -2\n",
            "El numero ingresado es negativo\n"
          ]
        }
      ]
    },
    {
      "cell_type": "markdown",
      "source": [
        "## Ejercicio 2\n",
        "Haz que un usuario introduzca su nombre y evalúa con operadores if y else si dicho nombre tiene una\n",
        "longitud mayor a 10 caracteres o no. Devuelve por pantalla el resultado en cada caso.\n",
        "\n"
      ],
      "metadata": {
        "id": "DAiMbeVN5_84"
      }
    },
    {
      "cell_type": "code",
      "source": [
        "name = str(input(\"Por favor introduzca su nombre: \"))\n",
        "if len(name)>= 10:\n",
        "    print(\"Su nombre tiene 10 caracteres o mas\")\n",
        "else:\n",
        "    print(\"Su nombre tiene menos de 10 caracteres\")    "
      ],
      "metadata": {
        "colab": {
          "base_uri": "https://localhost:8080/"
        },
        "id": "CQpE_V316Dsl",
        "outputId": "2589f033-0482-417f-edd5-5a18287dbe19"
      },
      "execution_count": 7,
      "outputs": [
        {
          "output_type": "stream",
          "name": "stdout",
          "text": [
            "Por favor introduzca su nombre: Ivan\n",
            "Su nombre tiene menos de 10 caracteres\n"
          ]
        }
      ]
    }
  ]
}